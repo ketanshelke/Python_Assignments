{
 "cells": [
  {
   "cell_type": "code",
   "execution_count": 22,
   "metadata": {},
   "outputs": [],
   "source": [
    "class Bankacc():\n",
    "    def __init__(self,Owner,Balance):\n",
    "        self.Owner = Owner\n",
    "        self.Balance = Balance\n",
    "         \n",
    "    def deposit(self,amount):\n",
    "        self.Balance = self.Balance + amount\n",
    "        print(\"Your Balance Is :\", self.Balance)\n",
    "        \n",
    "    def withdraw(self,amount):\n",
    "        if amount > self.Balance:\n",
    "            print(\"Not Sufficient Balance\")\n",
    "        elif amount < self.Balance:\n",
    "            self.Balance = self.Balance - amount\n",
    "            print(\"Your Balance Is :\", self.Balance)\n",
    "            \n",
    "        "
   ]
  },
  {
   "cell_type": "code",
   "execution_count": 33,
   "metadata": {},
   "outputs": [],
   "source": [
    "Acc=Bankacc(\"ketan\",5000)"
   ]
  },
  {
   "cell_type": "code",
   "execution_count": 34,
   "metadata": {},
   "outputs": [
    {
     "name": "stdout",
     "output_type": "stream",
     "text": [
      "Your Balance Is : 5300\n"
     ]
    }
   ],
   "source": [
    "Acc.deposit(300)"
   ]
  },
  {
   "cell_type": "code",
   "execution_count": 25,
   "metadata": {},
   "outputs": [
    {
     "name": "stdout",
     "output_type": "stream",
     "text": [
      "Not Sufficient Balance\n"
     ]
    }
   ],
   "source": [
    "Acc.withdraw(6000)"
   ]
  },
  {
   "cell_type": "code",
   "execution_count": 26,
   "metadata": {},
   "outputs": [
    {
     "name": "stdout",
     "output_type": "stream",
     "text": [
      "Your Balance Is : 4000\n"
     ]
    }
   ],
   "source": [
    "Acc.withdraw(1000)"
   ]
  },
  {
   "cell_type": "code",
   "execution_count": 72,
   "metadata": {},
   "outputs": [],
   "source": [
    "import math \n",
    "class cone():\n",
    "    def __init__(self,radius,height):\n",
    "        self.radius=radius\n",
    "        self.height=height\n",
    "\n",
    "    def volume(self):\n",
    "        vol = (math.pi*(self.radius**2)* self.height)/3\n",
    "        print(\"Volume Of Cone Is :\",vol)\n",
    "        \n",
    "    def surface(self):\n",
    "        surf =  math.pi*self.radius*(self.radius + math.sqrt((self.height**2)+(self.radius**2)))\n",
    "        print(\"Surface Of Cone Is :\",surf)\n",
    "        \n",
    "       "
   ]
  },
  {
   "cell_type": "code",
   "execution_count": 73,
   "metadata": {},
   "outputs": [],
   "source": [
    "p = cone(2,4)"
   ]
  },
  {
   "cell_type": "code",
   "execution_count": 74,
   "metadata": {},
   "outputs": [
    {
     "name": "stdout",
     "output_type": "stream",
     "text": [
      "Volume Of Cone Is : 16.755160819145562\n"
     ]
    }
   ],
   "source": [
    "p.volume()"
   ]
  },
  {
   "cell_type": "code",
   "execution_count": 75,
   "metadata": {},
   "outputs": [
    {
     "name": "stdout",
     "output_type": "stream",
     "text": [
      "Surface Of Cone Is : 40.665629538522076\n"
     ]
    }
   ],
   "source": [
    "p.surface()"
   ]
  },
  {
   "cell_type": "code",
   "execution_count": null,
   "metadata": {},
   "outputs": [],
   "source": []
  }
 ],
 "metadata": {
  "kernelspec": {
   "display_name": "Python 3",
   "language": "python",
   "name": "python3"
  },
  "language_info": {
   "codemirror_mode": {
    "name": "ipython",
    "version": 3
   },
   "file_extension": ".py",
   "mimetype": "text/x-python",
   "name": "python",
   "nbconvert_exporter": "python",
   "pygments_lexer": "ipython3",
   "version": "3.8.3"
  }
 },
 "nbformat": 4,
 "nbformat_minor": 4
}
